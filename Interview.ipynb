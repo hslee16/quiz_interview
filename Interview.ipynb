{
 "cells": [
  {
   "cell_type": "code",
   "execution_count": 123,
   "metadata": {},
   "outputs": [],
   "source": [
    "##\n",
    "\n",
    "#name:state:attributes\n",
    "#Sara:california:lawyer,dancer,loves_sushi,female,not sleepy,happy\n",
    "#Zoe:colorado:dancer,sre,,female, likes_burritos\n",
    "#Sam:california:not dancer,happy,male,likes_pizza\n",
    "#Bill:utah:running, bored\n",
    "#Mary:arizona:mac_user, dancer,loves_math\n",
    "#Parker:colorado:dancer , likes_pizza, happy\n",
    "#Joe:california:sre,happy ,enjoys_music\n",
    "        \n",
    "##\n"
   ]
  },
  {
   "cell_type": "code",
   "execution_count": 124,
   "metadata": {},
   "outputs": [],
   "source": [
    "import pandas as pd"
   ]
  },
  {
   "cell_type": "code",
   "execution_count": 125,
   "metadata": {},
   "outputs": [],
   "source": [
    "df = pd.read_csv('interviewdata', header=0, sep=\":\")"
   ]
  },
  {
   "cell_type": "code",
   "execution_count": 126,
   "metadata": {},
   "outputs": [
    {
     "data": {
      "text/html": [
       "<div>\n",
       "<style scoped>\n",
       "    .dataframe tbody tr th:only-of-type {\n",
       "        vertical-align: middle;\n",
       "    }\n",
       "\n",
       "    .dataframe tbody tr th {\n",
       "        vertical-align: top;\n",
       "    }\n",
       "\n",
       "    .dataframe thead th {\n",
       "        text-align: right;\n",
       "    }\n",
       "</style>\n",
       "<table border=\"1\" class=\"dataframe\">\n",
       "  <thead>\n",
       "    <tr style=\"text-align: right;\">\n",
       "      <th></th>\n",
       "      <th>name</th>\n",
       "      <th>state</th>\n",
       "      <th>attributes</th>\n",
       "    </tr>\n",
       "  </thead>\n",
       "  <tbody>\n",
       "    <tr>\n",
       "      <th>0</th>\n",
       "      <td>Sara</td>\n",
       "      <td>california</td>\n",
       "      <td>lawyer,dancer,loves_sushi,female,not sleepy,happy</td>\n",
       "    </tr>\n",
       "    <tr>\n",
       "      <th>1</th>\n",
       "      <td>Zoe</td>\n",
       "      <td>colorado</td>\n",
       "      <td>dancer,sre,,female, likes_burritos</td>\n",
       "    </tr>\n",
       "    <tr>\n",
       "      <th>2</th>\n",
       "      <td>Sam</td>\n",
       "      <td>california</td>\n",
       "      <td>not dancer,happy,male,likes_pizza</td>\n",
       "    </tr>\n",
       "    <tr>\n",
       "      <th>3</th>\n",
       "      <td>Bill</td>\n",
       "      <td>utah</td>\n",
       "      <td>running, bored</td>\n",
       "    </tr>\n",
       "    <tr>\n",
       "      <th>4</th>\n",
       "      <td>Mary</td>\n",
       "      <td>arizona</td>\n",
       "      <td>mac_user, dancer,loves_math</td>\n",
       "    </tr>\n",
       "    <tr>\n",
       "      <th>5</th>\n",
       "      <td>Parker</td>\n",
       "      <td>colorado</td>\n",
       "      <td>dancer , likes_pizza, happy</td>\n",
       "    </tr>\n",
       "    <tr>\n",
       "      <th>6</th>\n",
       "      <td>Joe</td>\n",
       "      <td>california</td>\n",
       "      <td>sre,happy ,enjoys_music</td>\n",
       "    </tr>\n",
       "  </tbody>\n",
       "</table>\n",
       "</div>"
      ],
      "text/plain": [
       "     name       state                                         attributes\n",
       "0    Sara  california  lawyer,dancer,loves_sushi,female,not sleepy,happy\n",
       "1     Zoe    colorado                 dancer,sre,,female, likes_burritos\n",
       "2     Sam  california                  not dancer,happy,male,likes_pizza\n",
       "3    Bill        utah                                     running, bored\n",
       "4    Mary     arizona                        mac_user, dancer,loves_math\n",
       "5  Parker    colorado                        dancer , likes_pizza, happy\n",
       "6     Joe  california                            sre,happy ,enjoys_music"
      ]
     },
     "execution_count": 126,
     "metadata": {},
     "output_type": "execute_result"
    }
   ],
   "source": [
    "df.mask(lambda x: x['attributes'].str.split(',').map(lambda y: y == \"dancer\"))"
   ]
  },
  {
   "cell_type": "code",
   "execution_count": 127,
   "metadata": {},
   "outputs": [],
   "source": [
    "df.rename(columns=lambda x: x.replace(\" \", \"\"), inplace=True)"
   ]
  },
  {
   "cell_type": "code",
   "execution_count": 128,
   "metadata": {},
   "outputs": [],
   "source": [
    "df.rename(columns=lambda x: x.strip(), inplace=True)"
   ]
  },
  {
   "cell_type": "code",
   "execution_count": 129,
   "metadata": {},
   "outputs": [
    {
     "data": {
      "text/plain": [
       "0    [lawyer, dancer, loves_sushi, female, not slee...\n",
       "1             [dancer, sre, , female,  likes_burritos]\n",
       "2               [not dancer, happy, male, likes_pizza]\n",
       "3                                    [running,  bored]\n",
       "4                      [mac_user,  dancer, loves_math]\n",
       "5                      [dancer ,  likes_pizza,  happy]\n",
       "6                          [sre, happy , enjoys_music]\n",
       "Name: attributes, dtype: object"
      ]
     },
     "execution_count": 129,
     "metadata": {},
     "output_type": "execute_result"
    }
   ],
   "source": [
    "df['attributes'].str.split(\",\")"
   ]
  },
  {
   "cell_type": "code",
   "execution_count": 130,
   "metadata": {},
   "outputs": [],
   "source": [
    "# custom filter to get rows that contain attributes with \"dancer\" and \"happy\"\n",
    "def custom_filter(x):\n",
    "    happy = False\n",
    "    dancer = False\n",
    "    for item in x:\n",
    "        if item.strip() == (\"dancer\"):\n",
    "            happy = True\n",
    "        elif item.strip() == (\"happy\"):\n",
    "            dancer = True\n",
    "    return happy & dancer"
   ]
  },
  {
   "cell_type": "code",
   "execution_count": 131,
   "metadata": {},
   "outputs": [
    {
     "data": {
      "text/html": [
       "<div>\n",
       "<style scoped>\n",
       "    .dataframe tbody tr th:only-of-type {\n",
       "        vertical-align: middle;\n",
       "    }\n",
       "\n",
       "    .dataframe tbody tr th {\n",
       "        vertical-align: top;\n",
       "    }\n",
       "\n",
       "    .dataframe thead th {\n",
       "        text-align: right;\n",
       "    }\n",
       "</style>\n",
       "<table border=\"1\" class=\"dataframe\">\n",
       "  <thead>\n",
       "    <tr style=\"text-align: right;\">\n",
       "      <th></th>\n",
       "      <th>name</th>\n",
       "      <th>state</th>\n",
       "      <th>attributes</th>\n",
       "    </tr>\n",
       "  </thead>\n",
       "  <tbody>\n",
       "    <tr>\n",
       "      <th>0</th>\n",
       "      <td>Sara</td>\n",
       "      <td>california</td>\n",
       "      <td>lawyer,dancer,loves_sushi,female,not sleepy,happy</td>\n",
       "    </tr>\n",
       "    <tr>\n",
       "      <th>5</th>\n",
       "      <td>Parker</td>\n",
       "      <td>colorado</td>\n",
       "      <td>dancer , likes_pizza, happy</td>\n",
       "    </tr>\n",
       "  </tbody>\n",
       "</table>\n",
       "</div>"
      ],
      "text/plain": [
       "     name       state                                         attributes\n",
       "0    Sara  california  lawyer,dancer,loves_sushi,female,not sleepy,happy\n",
       "5  Parker    colorado                        dancer , likes_pizza, happy"
      ]
     },
     "execution_count": 131,
     "metadata": {},
     "output_type": "execute_result"
    }
   ],
   "source": [
    "df[df['attributes'].str.split(\",\").map(lambda x: custom_filter(x))]"
   ]
  },
  {
   "cell_type": "code",
   "execution_count": null,
   "metadata": {},
   "outputs": [],
   "source": []
  }
 ],
 "metadata": {
  "kernelspec": {
   "display_name": "Python 3",
   "language": "python",
   "name": "python3"
  },
  "language_info": {
   "codemirror_mode": {
    "name": "ipython",
    "version": 3
   },
   "file_extension": ".py",
   "mimetype": "text/x-python",
   "name": "python",
   "nbconvert_exporter": "python",
   "pygments_lexer": "ipython3",
   "version": "3.6.5"
  }
 },
 "nbformat": 4,
 "nbformat_minor": 2
}
